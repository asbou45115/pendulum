{
 "cells": [
  {
   "cell_type": "code",
   "execution_count": null,
   "metadata": {
    "vscode": {
     "languageId": "plaintext"
    }
   },
   "outputs": [],
   "source": [
    "import math\n",
    "import pygame\n",
    "import threading\n",
    "\n",
    "# Initial settings for the pendulum simulation\n",
    "SCREEN_WIDTH, SCREEN_HEIGHT = 800, 1000\n",
    "BG_COLOUR = (0, 0, 0)\n",
    "PENDULUM_COLOUR = (255, 255, 255)\n",
    "TRAIL_COLOUR = (57, 255, 20)\n",
    "PENDULUM_LENGTH = 200\n",
    "INITIAL_ANGLE = math.pi / 4\n",
    "GRAVITY = 9.8\n",
    "TIME_STEP = 0.1\n",
    "\n",
    "pygame.init()\n",
    "screen = pygame.display.set_mode((SCREEN_WIDTH, SCREEN_HEIGHT))\n",
    "pygame.display.set_caption(\"Pendulum Simulation\")\n",
    "clock = pygame.time.Clock()\n",
    "running = True\n",
    "trail_pos = [] \n",
    "\n",
    "def run_simulation():\n",
    "    global running, TIME_STEP\n",
    "    while running:\n",
    "        for event in pygame.event.get():\n",
    "            if event.type == pygame.QUIT:\n",
    "                running = False\n",
    "                \n",
    "        screen.fill(BG_COLOUR)\n",
    "        pend_len = PENDULUM_LENGTH\n",
    "        theta = INITIAL_ANGLE * math.cos(math.sqrt(GRAVITY / pend_len) * TIME_STEP)  \n",
    "        pend_x = SCREEN_WIDTH // 2 + pend_len * math.sin(theta)\n",
    "        pend_y = SCREEN_HEIGHT // 2 + pend_len * math.cos(theta)\n",
    "        trail_pos.append((pend_x, pend_y))\n",
    "        if len(trail_pos) > 100:\n",
    "            trail_pos.pop(0)\n",
    "        for j in range(1, len(trail_pos)):\n",
    "            pygame.draw.aaline(screen, TRAIL_COLOUR, trail_pos[j - 1], trail_pos[j])\n",
    "        pygame.draw.line(screen, PENDULUM_COLOUR, (SCREEN_WIDTH // 2, SCREEN_HEIGHT // 2), (pend_x, pend_y), 1)\n",
    "        pygame.draw.circle(screen, (255, 255, 255), (pend_x, pend_y), 10)\n",
    "        pygame.display.flip()\n",
    "        clock.tick(60)\n",
    "        TIME_STEP += 0.1\n",
    "    pygame.quit()\n",
    "\n",
    "simulation_thread = threading.Thread(target=run_simulation)\n",
    "simulation_thread.start()\n"
   ]
  }
 ],
 "metadata": {
  "language_info": {
   "name": "python"
  }
 },
 "nbformat": 4,
 "nbformat_minor": 2
}
